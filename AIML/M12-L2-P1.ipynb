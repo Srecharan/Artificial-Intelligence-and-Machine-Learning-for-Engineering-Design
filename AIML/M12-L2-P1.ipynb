{
 "cells": [
  {
   "cell_type": "markdown",
   "metadata": {},
   "source": [
    "# M12-L1 Problem 2\n",
    "\n",
    "Sometimes the dimensionality is greater than the number of samples. For example,in this problem X has 19 features, but there are only 4 data points. You will need to use the alternate PCA formulation in this case. Follow the steps in the cells below to implement this method."
   ]
  },
  {
   "cell_type": "code",
   "execution_count": 9,
   "metadata": {},
   "outputs": [],
   "source": [
    "import numpy as np\n",
    "import matplotlib.pyplot as plt\n",
    "\n",
    "X = np.array([  [-2,  1,  2, -3,  4,  1,  0,  3,  0,  2,  1,  1,  2,  3, -2, -3, 2,  1,  0],\n",
    "                [ 1,  2, -4,  2, -4,  2,  5,  2,  2,  1, -3,  0,  0,  1, -2,  1, 1, -3, -2],\n",
    "                [ 1, -3,  2,  1,  0, -3, -5, -1,  3,  3, -2, -3, -2, -1,  1,  0, 5,  4,  2],\n",
    "                [ 3, -1,  0,  2,  2, -5, -4, -1,  2, -1,  3,  4,  4,  2,  1,  2, -2,  1, -1]])\n"
   ]
  },
  {
   "cell_type": "markdown",
   "metadata": {},
   "source": [
    "## Computing Principal Components\n",
    "\n",
    "### The A matrix\n",
    "\n",
    "First, you should compute the `A` matrix, where A is $(X-\\mu)'$. (Note the transpose)\n",
    "\n",
    "Print this matrix below. It should have size $19\\times 4$."
   ]
  },
  {
   "cell_type": "code",
   "execution_count": 10,
   "metadata": {},
   "outputs": [
    {
     "name": "stdout",
     "output_type": "stream",
     "text": [
      "A = \n",
      " [[-2  1  1  3]\n",
      " [ 1  2 -3 -1]\n",
      " [ 2 -4  2  0]\n",
      " [-3  2  1  2]\n",
      " [ 4 -4  0  2]\n",
      " [ 1  2 -3 -5]\n",
      " [ 0  5 -5 -4]\n",
      " [ 3  2 -1 -1]\n",
      " [ 0  2  3  2]\n",
      " [ 2  1  3 -1]\n",
      " [ 1 -3 -2  3]\n",
      " [ 1  0 -3  4]\n",
      " [ 2  0 -2  4]\n",
      " [ 3  1 -1  2]\n",
      " [-2 -2  1  1]\n",
      " [-3  1  0  2]\n",
      " [ 2  1  5 -2]\n",
      " [ 1 -3  4  1]\n",
      " [ 0 -2  2 -1]]\n"
     ]
    }
   ],
   "source": [
    "# YOUR CODE GOES HERE\n",
    "A = X.T\n",
    "print(\"A = \\n\", A)"
   ]
  },
  {
   "cell_type": "markdown",
   "metadata": {},
   "source": [
    "### \"Small\" covariance matrix\n",
    "\n",
    "By transposing $X-\\mu$ to get $A$, now we can compute a smaller covariance matrix with $A' A$. Compute this matrix, `C`, below and print the result."
   ]
  },
  {
   "cell_type": "code",
   "execution_count": 11,
   "metadata": {},
   "outputs": [
    {
     "name": "stdout",
     "output_type": "stream",
     "text": [
      "C = \n",
      " [[  4.25        -1.75        -2.           4.5         -2.5\n",
      "   -4.75        -3.          -3.41666667   1.91666667  -2.25\n",
      "    0.91666667   1.83333333   1.          -1.25         2.5\n",
      "    4.33333333  -2.83333333  -0.08333333  -0.75      ]\n",
      " [ -1.75         4.91666667  -4.          -1.16666667  -1.83333333\n",
      "    5.91666667   9.33333333   3.91666667  -1.75        -0.91666667\n",
      "   -0.75         2.16666667   1.66666667   2.41666667  -3.5\n",
      "   -1.          -2.5         -5.75        -3.08333333]\n",
      " [ -2.          -4.           8.          -4.           8.\n",
      "   -4.         -10.          -1.33333333  -0.66666667   2.\n",
      "    3.33333333  -1.33333333   0.           0.           2.\n",
      "   -3.33333333   3.33333333   7.33333333   4.        ]\n",
      " [  4.5         -1.16666667  -4.           5.66666667  -5.66666667\n",
      "   -3.16666667  -0.33333333  -3.16666667   2.5         -1.83333333\n",
      "   -1.5          0.33333333  -0.66666667  -2.16666667   2.\n",
      "    5.          -2.          -1.5         -1.16666667]\n",
      " [ -2.5         -1.83333333   8.          -5.66666667  11.66666667\n",
      "   -3.83333333  -8.66666667   0.16666667  -2.5         -0.16666667\n",
      "    7.5          3.66666667   4.66666667   3.16666667   1.\n",
      "   -4.          -1.           5.5          2.16666667]\n",
      " [ -4.75         5.91666667  -4.          -3.16666667  -3.83333333\n",
      "   10.91666667  13.33333333   6.25        -2.08333333   2.08333333\n",
      "   -5.08333333  -2.5         -2.33333333   1.41666667  -5.5\n",
      "   -3.66666667   2.16666667  -6.08333333  -2.08333333]\n",
      " [ -3.           9.33333333 -10.          -0.33333333  -8.66666667\n",
      "   13.33333333  20.66666667   7.33333333  -2.          -0.33333333\n",
      "   -6.           0.33333333  -0.66666667   2.33333333  -7.\n",
      "   -1.          -2.         -12.          -5.66666667]\n",
      " [ -3.41666667   3.91666667  -1.33333333  -3.16666667   0.16666667\n",
      "    6.25         7.33333333   4.25        -2.08333333   0.75\n",
      "   -1.08333333   0.16666667   0.33333333   2.08333333  -3.5\n",
      "   -3.           0.16666667  -3.41666667  -1.41666667]\n",
      " [  1.91666667  -1.75        -0.66666667   2.5         -2.5\n",
      "   -2.08333333  -2.          -2.08333333   1.58333333   0.08333333\n",
      "   -1.41666667  -1.5         -1.66666667  -1.91666667   1.5\n",
      "    2.           0.83333333   0.91666667   0.58333333]\n",
      " [ -2.25        -0.91666667   2.          -1.83333333  -0.16666667\n",
      "    2.08333333  -0.33333333   0.75         0.08333333   2.91666667\n",
      "   -2.91666667  -4.5         -3.66666667  -1.41666667  -0.5\n",
      "   -2.33333333   4.83333333   2.08333333   2.08333333]\n",
      " [  0.91666667  -0.75         3.33333333  -1.5          7.5\n",
      "   -5.08333333  -6.          -1.08333333  -1.41666667  -2.91666667\n",
      "    7.58333333   6.5          6.33333333   3.08333333   1.5\n",
      "    0.          -5.16666667   1.91666667  -0.41666667]\n",
      " [  1.83333333   2.16666667  -1.33333333   0.33333333   3.66666667\n",
      "   -2.5          0.33333333   0.16666667  -1.5         -4.5\n",
      "    6.5          8.33333333   7.33333333   3.83333333   0.\n",
      "    1.66666667  -8.          -2.83333333  -3.16666667]\n",
      " [  1.           1.66666667   0.          -0.66666667   4.66666667\n",
      "   -2.33333333  -0.66666667   0.33333333  -1.66666667  -3.66666667\n",
      "    6.33333333   7.33333333   6.66666667   3.66666667   0.\n",
      "    0.66666667  -6.66666667  -1.66666667  -2.33333333]\n",
      " [ -1.25         2.41666667   0.          -2.16666667   3.16666667\n",
      "    1.41666667   2.33333333   2.08333333  -1.91666667  -1.41666667\n",
      "    3.08333333   3.83333333   3.66666667   2.91666667  -1.5\n",
      "   -1.33333333  -3.16666667  -1.91666667  -1.58333333]\n",
      " [  2.5         -3.5          2.           2.           1.\n",
      "   -5.5         -7.          -3.5          1.5         -0.5\n",
      "    1.5          0.           0.          -1.5          3.\n",
      "    2.           0.           3.5          1.5       ]\n",
      " [  4.33333333  -1.          -3.33333333   5.          -4.\n",
      "   -3.66666667  -1.          -3.           2.          -2.33333333\n",
      "    0.           1.66666667   0.66666667  -1.33333333   2.\n",
      "    4.66666667  -3.          -1.33333333  -1.33333333]\n",
      " [ -2.83333333  -2.5          3.33333333  -2.          -1.\n",
      "    2.16666667  -2.           0.16666667   0.83333333   4.83333333\n",
      "   -5.16666667  -8.          -6.66666667  -3.16666667   0.\n",
      "   -3.           8.33333333   4.16666667   3.83333333]\n",
      " [ -0.08333333  -5.75         7.33333333  -1.5          5.5\n",
      "   -6.08333333 -12.          -3.41666667   0.91666667   2.08333333\n",
      "    1.91666667  -2.83333333  -1.66666667  -1.91666667   3.5\n",
      "   -1.33333333   4.16666667   8.25         4.58333333]\n",
      " [ -0.75        -3.08333333   4.          -1.16666667   2.16666667\n",
      "   -2.08333333  -5.66666667  -1.41666667   0.58333333   2.08333333\n",
      "   -0.41666667  -3.16666667  -2.33333333  -1.58333333   1.5\n",
      "   -1.33333333   3.83333333   4.58333333   2.91666667]]\n"
     ]
    }
   ],
   "source": [
    "# YOUR CODE GOES HERE\n",
    "C = np.cov(A)\n",
    "print(\"C = \\n\", C)"
   ]
  },
  {
   "cell_type": "markdown",
   "metadata": {},
   "source": [
    "### Finding nonzero eigenvectors\n",
    "Next, find the useful (nonzero) eigenvectors of `C`. \n",
    "\n",
    "For validation purposes, there should be 3 useful eigenvectors, and the first one is `[-0.06628148 -0.79038331 0.47285044 0.38381435]`. \n",
    "\n",
    "Keep these eigenvectors in a $4\\times 3$ array `e`."
   ]
  },
  {
   "cell_type": "code",
   "execution_count": 12,
   "metadata": {},
   "outputs": [
    {
     "name": "stdout",
     "output_type": "stream",
     "text": [
      "\n",
      "Useful Eigenvectors, e:\n",
      " [[-0.07294372+0.j -0.12277459+0.j  0.33008441+0.j]\n",
      " [ 0.26034151+0.j -0.11787331+0.j -0.11677714+0.j]\n",
      " [-0.29998485+0.j  0.09606164+0.j -0.27776956+0.j]\n",
      " [ 0.01067529+0.j -0.04536213+0.j  0.42516696+0.j]\n",
      " [-0.27653993+0.j -0.17530224+0.j -0.44157072+0.j]\n",
      " [ 0.37621372+0.j  0.15082188+0.j -0.23925816+0.j]\n",
      " [ 0.59257956+0.j -0.02265222+0.j -0.05657115+0.j]\n",
      " [ 0.19897063+0.j  0.0037123 +0.j -0.250194  +0.j]\n",
      " [-0.04569305+0.j  0.07236581+0.j  0.20213547+0.j]\n",
      " [-0.0084373 +0.j  0.25979087+0.j -0.10504274+0.j]\n",
      " [-0.18948616+0.j -0.35382298+0.j -0.1518308 +0.j]\n",
      " [-0.00380575+0.j -0.46650428+0.j -0.03585222+0.j]\n",
      " [-0.03449119+0.j -0.40571147+0.j -0.10256065+0.j]\n",
      " [ 0.05241297+0.j -0.20419008+0.j -0.19442141+0.j]\n",
      " [-0.19396809+0.j -0.00756997+0.j  0.16057937+0.j]\n",
      " [-0.01329023+0.j -0.11639359+0.j  0.36617258+0.j]\n",
      " [-0.0508452 +0.j  0.45626561+0.j -0.08985059+0.j]\n",
      " [-0.3456779 +0.j  0.16842745+0.j -0.07563409+0.j]\n",
      " [-0.16171488+0.j  0.18371276+0.j -0.0569842 +0.j]]\n"
     ]
    }
   ],
   "source": [
    "# YOUR CODE GOES HERE\n",
    "w, v = np.linalg.eig(C) \n",
    "e = v[:, :3] \n",
    "print(\"\\nUseful Eigenvectors, e:\\n\", e)"
   ]
  },
  {
   "cell_type": "markdown",
   "metadata": {},
   "source": [
    "### Calculating \"eigenfaces\"\n",
    "\n",
    "Now, we have all we need to compute `U`, the matrix of eigenfaces.\n",
    "\n",
    "$\\bf{U}_i = \\bf{A} \\bf{e}_i$  \n",
    "\n",
    "$(19 \\times 3) = (19 \\times 4)(4 \\times 3)$\n",
    "\n",
    "Compute and print U. Be sure to normalize your eigenvectors `e` before using the above equation."
   ]
  },
  {
   "cell_type": "code",
   "execution_count": 13,
   "metadata": {},
   "outputs": [
    {
     "name": "stdout",
     "output_type": "stream",
     "text": [
      "Eigenfaces, U:\n",
      " [[-0.50027219+0.j -0.36282393+0.j -8.2252748 +0.j]\n",
      " [ 9.09376778+0.j  0.80762958+0.j  3.41879818+0.j]\n",
      " [-7.64353981+0.j  7.46882498+0.j  2.19772875+0.j]\n",
      " [-6.46384972+0.j -7.60093701+0.j  2.91229504+0.j]]\n"
     ]
    }
   ],
   "source": [
    "# YOUR CODE GOES HERE\n",
    "e = e / np.linalg.norm(e, axis=0)\n",
    "# Calculating \"eigenfaces\"\n",
    "U = X.dot(e)\n",
    "print(\"Eigenfaces, U:\\n\",U)"
   ]
  },
  {
   "cell_type": "markdown",
   "metadata": {},
   "source": [
    "## Projecting data into 3D\n",
    "\n",
    "Now project your data into 3 dimensions with the formula: \n",
    "\n",
    "$\\Omega = U^\\text{T} A $  \n",
    "\n",
    "$(3 \\times 4) = (3 \\times 19)(19 \\times 4)$\n",
    "\n",
    "Call the projected data $\\Omega$ \"`W`\". Print `W.T`"
   ]
  },
  {
   "cell_type": "code",
   "execution_count": 14,
   "metadata": {},
   "outputs": [
    {
     "name": "stdout",
     "output_type": "stream",
     "text": [
      "Projected data in 3 dimensions:\n",
      " [[-16.94077683+0.j -13.8007086 +0.j  30.80396166+0.j]\n",
      " [ 47.08173252+0.j -13.5531027 +0.j -10.89315974+0.j]\n",
      " [-52.66269511+0.j  10.98148378+0.j -25.73028483+0.j]\n",
      " [ -0.88288713+0.j  -5.02931809+0.j  39.5357396 +0.j]\n",
      " [-51.30385933+0.j -19.88368804+0.j -40.75170186+0.j]\n",
      " [ 72.93713142+0.j  16.85064533+0.j -22.5423399 +0.j]\n",
      " [109.54193684+0.j  -2.90222897+0.j  -5.54383302+0.j]\n",
      " [ 30.79410854+0.j   0.65889941+0.j -22.94825184+0.j]\n",
      " [-17.6707833 +0.j   8.81986009+0.j  19.2553727 +0.j]\n",
      " [ -8.37354628+0.j  30.08939368+0.j  -9.3508602 +0.j]\n",
      " [-31.8860451 +0.j -40.52617365+0.j -14.14024174+0.j]\n",
      " [ -3.42505167+0.j -53.17304689+0.j  -3.16928091+0.j]\n",
      " [-11.56886366+0.j -46.06704584+0.j  -9.19682695+0.j]\n",
      " [  2.30879158+0.j -22.95154119+0.j -17.6301649 +0.j]\n",
      " [-31.29438072+0.j  -1.02172334+0.j  14.72297703+0.j]\n",
      " [ -2.33311511+0.j -13.30577265+0.j  33.91921267+0.j]\n",
      " [-17.19677617+0.j  52.62798065+0.j  -7.86769773+0.j]\n",
      " [-64.81958448+0.j  19.48865025+0.j  -6.77845929+0.j]\n",
      " [-27.01076545+0.j  20.9233278 +0.j  -5.3544339 +0.j]]\n"
     ]
    }
   ],
   "source": [
    "# YOUR CODE GOES HERE\n",
    "W = U.T.dot(X)\n",
    "print('Projected data in 3 dimensions:\\n',W.T)"
   ]
  },
  {
   "cell_type": "markdown",
   "metadata": {},
   "source": [
    "## Reconstructing data in 19-D\n",
    "\n",
    "We can project the transformed data `W` back into the original 19-D space using:\n",
    "\n",
    "$\\Gamma_f = U \\Omega + \\Psi$   \n",
    "where:  \n",
    "$\\Gamma_f = $ reconstructed data  \n",
    "$U = $ eigenfaces  \n",
    "$\\Omega = $ Reduced data  \n",
    "$\\Psi = $ Means  \n",
    "\n",
    "Do this, and compute the MSE between each reconstructed sample and corresponding original points. Report all 4 MSE values.\n",
    "\n",
    "\n"
   ]
  },
  {
   "cell_type": "code",
   "execution_count": 15,
   "metadata": {},
   "outputs": [
    {
     "name": "stdout",
     "output_type": "stream",
     "text": [
      "MSE for sample 1: 3.039550e+04\n",
      "MSE for sample 2: 1.509414e+05\n",
      "MSE for sample 3: 1.444565e+05\n",
      "MSE for sample 4: 1.162936e+05\n"
     ]
    },
    {
     "name": "stderr",
     "output_type": "stream",
     "text": [
      "C:\\Users\\srech\\AppData\\Local\\Temp\\ipykernel_20576\\1018759787.py:5: ComplexWarning: Casting complex values to real discards the imaginary part\n",
      "  print(\"MSE for sample %d: %e\" %(i+1,MSE[i]))\n"
     ]
    }
   ],
   "source": [
    "# YOUR CODE GOES HERE\n",
    "X_reconstructed = U.dot(W) + np.mean(X, axis=0)\n",
    "MSE = np.mean((X - X_reconstructed)**2, axis=1)\n",
    "for i in range(4):\n",
    "    print(\"MSE for sample %d: %e\" %(i+1,MSE[i]))"
   ]
  },
  {
   "cell_type": "markdown",
   "metadata": {},
   "source": [
    "## 2-D Reconstruction\n",
    "\n",
    "\n",
    "What if we had only used the first 2 eigenvectors to compute the eigenfaces?\n",
    "Below, redo the earlier calculations, but use only two eigenfaces. Compute the 4 MSE values that you would get in this case.\n",
    "\n",
    "(You should get an MSE of 3.626 for the first sample.)"
   ]
  },
  {
   "cell_type": "code",
   "execution_count": 16,
   "metadata": {},
   "outputs": [
    {
     "name": "stdout",
     "output_type": "stream",
     "text": [
      "Using only 2 eigenvectors:\n",
      "MSE for sample 1: 5.451620e+02\n",
      "MSE for sample 2: 1.462161e+05\n",
      "MSE for sample 3: 1.420665e+05\n",
      "MSE for sample 4: 1.122849e+05\n"
     ]
    },
    {
     "name": "stderr",
     "output_type": "stream",
     "text": [
      "C:\\Users\\srech\\AppData\\Local\\Temp\\ipykernel_20576\\2260735766.py:10: ComplexWarning: Casting complex values to real discards the imaginary part\n",
      "  print(\"MSE for sample %d: %e\" %(i+1,MSE2[i]))\n"
     ]
    }
   ],
   "source": [
    "# YOUR CODE GOES HERE\n",
    "e_2d = v[:, :2]  \n",
    "e_2d = e_2d / np.linalg.norm(e_2d, axis=0)\n",
    "U_2d = X.dot(e_2d)\n",
    "W_2d = U_2d.T.dot(X)\n",
    "X_reconstructed_2d = U_2d.dot(W_2d) + np.mean(X, axis=0)\n",
    "MSE2 = np.mean((X - X_reconstructed_2d)**2, axis=1)\n",
    "print(\"Using only 2 eigenvectors:\")\n",
    "for i in range(4):\n",
    "    print(\"MSE for sample %d: %e\" %(i+1,MSE2[i]))"
   ]
  }
 ],
 "metadata": {
  "kernelspec": {
   "display_name": "Python 3 (ipykernel)",
   "language": "python",
   "name": "python3"
  },
  "language_info": {
   "codemirror_mode": {
    "name": "ipython",
    "version": 3
   },
   "file_extension": ".py",
   "mimetype": "text/x-python",
   "name": "python",
   "nbconvert_exporter": "python",
   "pygments_lexer": "ipython3",
   "version": "3.11.5"
  }
 },
 "nbformat": 4,
 "nbformat_minor": 4
}
